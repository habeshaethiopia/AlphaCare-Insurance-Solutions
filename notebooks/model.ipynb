{
  "cells": [
    {
      "cell_type": "code",
      "source": [
        "# Clone the repository\n",
        "!git clone https://github.com/habeshaethiopia/AlphaCare-Insurance-Solutions.git\n",
        "%cd AlphaCare-Insurance-Solutions\n",
        "\n",
        "# Change the working directory\n",
        "\n",
        "# Install the necessary dependencies (if any)\n",
        "# !pip install -r requirements.txt  # If you have a requirements.txt file"
      ],
      "metadata": {
        "id": "G2b4CxjXxOj1",
        "outputId": "eaa098ef-4aa1-431f-be7c-15887ba51b8f",
        "colab": {
          "base_uri": "https://localhost:8080/"
        }
      },
      "execution_count": 1,
      "outputs": [
        {
          "output_type": "stream",
          "name": "stdout",
          "text": [
            "Cloning into 'AlphaCare-Insurance-Solutions'...\n",
            "remote: Enumerating objects: 97, done.\u001b[K\n",
            "remote: Counting objects: 100% (97/97), done.\u001b[K\n",
            "remote: Compressing objects: 100% (76/76), done.\u001b[K\n",
            "remote: Total 97 (delta 44), reused 50 (delta 18), pack-reused 0 (from 0)\u001b[K\n",
            "Receiving objects: 100% (97/97), 1.62 MiB | 3.74 MiB/s, done.\n",
            "Resolving deltas: 100% (44/44), done.\n",
            "/content/AlphaCare-Insurance-Solutions\n"
          ]
        }
      ]
    },
    {
      "cell_type": "code",
      "source": [
        "# 1. Import Libraries\n",
        "import pandas as pd\n",
        "import numpy as np\n",
        "import matplotlib.pyplot as plt\n",
        "import seaborn as sns\n",
        "from sklearn.decomposition import PCA\n",
        "import sys\n",
        "import os\n",
        "\n",
        "# Ensure the src directory is in the Python path\n",
        "sys.path.append(\n",
        "    os.path.abspath(\n",
        "        os.path.join(\n",
        "            \"..\", \"src\" # Adjust the directory path as necessary\n",
        "        )\n",
        "    )\n",
        ")\n",
        "print(os.path.abspath(\n",
        "        os.path.join(\n",
        "            \"..\", \"src\" # Adjust the directory path as necessary\n",
        "        )\n",
        "    ))\n",
        "from src.data_preparation import DataLoader\n",
        "# Importing the necessary functions from data_processing.py\n",
        "\n",
        "import pandas as pd\n"
      ],
      "metadata": {
        "id": "Wbbtlvf8xUiC",
        "outputId": "532108dc-89f0-4591-cfde-a5fdb1a8c7df",
        "colab": {
          "base_uri": "https://localhost:8080/"
        }
      },
      "execution_count": 2,
      "outputs": [
        {
          "output_type": "stream",
          "name": "stdout",
          "text": [
            "/content/src\n"
          ]
        }
      ]
    },
    {
      "cell_type": "code",
      "source": [
        "# Load a sample dataset (replace with your own file path)\n",
        "file_path = r\"https://drive.google.com/file/d/1GOLY8weQTQxcv3zyTN35z7va-WZobgpU/view?usp=drive_link\" # Change this to your actual CSV file path\n",
        "DL=DataLoader(file_path)\n",
        "df = DL.load_data_from_drive_zip(file_path)\n",
        "\n",
        "# Show the first few rows of the dataset\n",
        "df.head()\n"
      ],
      "metadata": {
        "id": "3ZioQLRIxaUJ"
      },
      "execution_count": null,
      "outputs": []
    },
    {
      "cell_type": "code",
      "source": [
        "# Impute or remove missing data\n",
        "df.fillna(df.median(numeric_only=True), inplace=True)  # For numeric columns\n",
        "df.fillna(\"Unknown\", inplace=True)  # For categorical columns\n"
      ],
      "metadata": {
        "id": "X-ONxJqjxlam"
      },
      "execution_count": null,
      "outputs": []
    },
    {
      "cell_type": "code",
      "source": [
        "# Example of creating new features\n",
        "df['ClaimsToPremiumRatio'] = df['TotalClaims'] / (df['TotalPremium'] + 1e-5)  # Avoid division by zero\n",
        "df['IsHighRisk'] = (df['ClaimsToPremiumRatio'] > 0.5).astype(int)\n"
      ],
      "metadata": {
        "id": "gZSF5tLbxm_j"
      },
      "execution_count": null,
      "outputs": []
    },
    {
      "cell_type": "code",
      "source": [
        "from sklearn.preprocessing import OneHotEncoder\n",
        "\n",
        "# Perform one-hot encoding on categorical features\n",
        "categorical_cols = ['Province', 'VehicleType', 'Gender']\n",
        "df_encoded = pd.get_dummies(df, columns=categorical_cols, drop_first=True)\n"
      ],
      "metadata": {
        "id": "aNrIdL5dxrn4"
      },
      "execution_count": null,
      "outputs": []
    },
    {
      "cell_type": "code",
      "source": [
        "from sklearn.model_selection import train_test_split\n",
        "\n",
        "X = df_encoded.drop(columns=['TotalClaims', 'TotalPremium'])\n",
        "y_claims = df_encoded['TotalClaims']\n",
        "y_premium = df_encoded['TotalPremium']\n",
        "\n",
        "# Split data into training and testing sets (80:20)\n",
        "X_train, X_test, y_claims_train, y_claims_test = train_test_split(X, y_claims, test_size=0.2, random_state=42)\n",
        "_, _, y_premium_train, y_premium_test = train_test_split(X, y_premium, test_size=0.2, random_state=42)\n"
      ],
      "metadata": {
        "id": "INiobQZ-x3Yj"
      },
      "execution_count": null,
      "outputs": []
    },
    {
      "cell_type": "code",
      "source": [
        "from sklearn.linear_model import LinearRegression\n",
        "from sklearn.metrics import mean_squared_error, r2_score\n",
        "\n",
        "# Build and evaluate Linear Regression model\n",
        "linear_model = LinearRegression()\n",
        "linear_model.fit(X_train, y_claims_train)\n",
        "y_claims_pred = linear_model.predict(X_test)\n",
        "\n",
        "mse = mean_squared_error(y_claims_test, y_claims_pred)\n",
        "r2 = r2_score(y_claims_test, y_claims_pred)\n",
        "print(\"Linear Regression Claims - MSE:\", mse, \"R2:\", r2)\n"
      ],
      "metadata": {
        "id": "kCV4W8Hdx7Hs"
      },
      "execution_count": null,
      "outputs": []
    },
    {
      "cell_type": "code",
      "source": [
        "from sklearn.ensemble import RandomForestRegressor\n",
        "\n",
        "# Build and evaluate Random Forest model\n",
        "rf_model = RandomForestRegressor(n_estimators=100, random_state=42)\n",
        "rf_model.fit(X_train, y_claims_train)\n",
        "y_claims_pred_rf = rf_model.predict(X_test)\n",
        "\n",
        "mse_rf = mean_squared_error(y_claims_test, y_claims_pred_rf)\n",
        "r2_rf = r2_score(y_claims_test, y_claims_pred_rf)\n",
        "print(\"Random Forest Claims - MSE:\", mse_rf, \"R2:\", r2_rf)\n"
      ],
      "metadata": {
        "id": "niOfmxRHx_CU"
      },
      "execution_count": null,
      "outputs": []
    },
    {
      "cell_type": "code",
      "source": [
        "import xgboost as xgb\n",
        "\n",
        "# Build and evaluate XGBoost model\n",
        "xgb_model = xgb.XGBRegressor(n_estimators=100, learning_rate=0.1, random_state=42)\n",
        "xgb_model.fit(X_train, y_claims_train)\n",
        "y_claims_pred_xgb = xgb_model.predict(X_test)\n",
        "\n",
        "mse_xgb = mean_squared_error(y_claims_test, y_claims_pred_xgb)\n",
        "r2_xgb = r2_score(y_claims_test, y_claims_pred_xgb)\n",
        "print(\"XGBoost Claims - MSE:\", mse_xgb, \"R2:\", r2_xgb)\n"
      ],
      "metadata": {
        "id": "dXDA_KoEyEDb"
      },
      "execution_count": null,
      "outputs": []
    },
    {
      "cell_type": "code",
      "source": [
        "# Compare model performances\n",
        "print(\"Model Comparison for Total Claims:\")\n",
        "print(f\"Linear Regression - MSE: {mse}, R2: {r2}\")\n",
        "print(f\"Random Forest - MSE: {mse_rf}, R2: {r2_rf}\")\n",
        "print(f\"XGBoost - MSE: {mse_xgb}, R2: {r2_xgb}\")\n"
      ],
      "metadata": {
        "id": "dBvMZZPoyKEX"
      },
      "execution_count": null,
      "outputs": []
    },
    {
      "cell_type": "code",
      "source": [
        "import shap\n",
        "\n",
        "# Explain model predictions using SHAP\n",
        "explainer = shap.TreeExplainer(rf_model)\n",
        "shap_values = explainer.shap_values(X_test)\n",
        "\n",
        "# Visualize feature importance\n",
        "shap.summary_plot(shap_values, X_test)\n"
      ],
      "metadata": {
        "id": "zEf1bnRpyVLq"
      },
      "execution_count": null,
      "outputs": []
    },
    {
      "cell_type": "code",
      "source": [
        "from lime.lime_tabular import LimeTabularExplainer\n",
        "\n",
        "# Explain specific predictions using LIME\n",
        "lime_explainer = LimeTabularExplainer(X_train.values, feature_names=X_train.columns, class_names=['TotalClaims'], mode='regression')\n",
        "exp = lime_explainer.explain_instance(X_test.iloc[0].values, rf_model.predict)\n",
        "exp.show_in_notebook()\n"
      ],
      "metadata": {
        "id": "jUY0YW1fyYzL"
      },
      "execution_count": null,
      "outputs": []
    }
  ],
  "metadata": {
    "language_info": {
      "name": "python"
    },
    "colab": {
      "provenance": []
    },
    "kernelspec": {
      "name": "python3",
      "display_name": "Python 3"
    }
  },
  "nbformat": 4,
  "nbformat_minor": 0
}